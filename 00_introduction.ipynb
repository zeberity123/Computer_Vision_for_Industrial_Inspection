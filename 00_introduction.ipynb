{
 "cells": [
  {
   "cell_type": "markdown",
   "metadata": {},
   "source": [
    "<a href=\"https://www.nvidia.com/dli\"> <img src=\"images/DLI_Header.png\" alt=\"Header\" style=\"width: 400px;\"/></a>"
   ]
  },
  {
   "cell_type": "markdown",
   "metadata": {},
   "source": [
    "# Computer Vision for Industrial Inspection #"
   ]
  },
  {
   "cell_type": "markdown",
   "metadata": {},
   "source": [
    "## 00 - Introduction ##\n",
    "\n",
    "Welcome to the NVIDIA DLI *Computer Vision for Industrial Inspection* workshop. In this lab, you will learn how to design, train, test, and deploy a hardware-accelerated manufacturing defect detection pipeline for industrial inspection using deep learning-based computer vision techniques.\n",
    "\n",
    "**Learning Objectives**\n",
    "<br>\n",
    "* Explore various applications of deep learning-based computer vision for optical inspection across industries such as construction, manufacturing, energy, infrastructure, and agriculture.\n",
    "* Learn the end-to-end development of a deep learning model for the purpose of manufacturing defect classification.\n",
    "* Extract meaningful insights from a production dataset to ascertain the scope of the project.\n",
    "* Apply transfer-learning to build a custom defect classification model.\n",
    "* Fine-tune the deep learning model and evaluate various performance metrics.\n",
    "* Deploy the model and measure inference performance.\n",
    "* Experiment with various inference configurations to optimize performance.\n",
    "\n",
    "**Table of Contents**\n",
    "<br>\n",
    "This workshop is broken down into three parts: \n",
    "1. Automated Optical Inspection and Data Exploration\n",
    "2. Model Training with Transfer Learning\n",
    "3. Model Deployment for Inference"
   ]
  },
  {
   "cell_type": "markdown",
   "metadata": {},
   "source": [
    "### JupyterLab ###\n",
    "For this hands-on lab, we use [JupyterLab](https://jupyterlab.readthedocs.io/en/stable/) to manage our environment.  The [JupyterLab Interface](https://jupyterlab.readthedocs.io/en/stable/user/interface.html) is a dashboard that provides access to interactive iPython notebooks, as well as the folder structure of our environment and a terminal window into the Ubuntu operating system. The first view you will see includes a **menu bar** at the top, a **file browser** in the **left sidebar**, and a **main work area** that is initially open to this \"introduction\" notebook. \n",
    "<p><img src=\"images/jl_launcher.png\"></p>\n",
    "\n",
    "* The file browser can be navigated just like any other file explorer. A double click on any of the items will open a new tab with its content. \n",
    "* The main work area includes tabbed views of open files that can be closed, moved, and edited as needed. \n",
    "* The notebooks, including this one, consist of a series of content and code **cells**. To execute code in a code cell, press `Shift+Enter` or the `Run` button in the menu bar above, while a cell is highlighted. Sometimes, a content cell will get switched to editing mode. Executing the cell with `Shift+Enter` or the `Run` button will switch it back to a readable form.\n",
    "* To interrupt cell execution, click the `Stop` button in the menu bar or navigate to the `Kernel` menu, and select `Interrupt Kernel`. \n",
    "* We can use terminal commands in the notebook cells by prepending an exclamation point/bang(`!`) to the beginning of the command. "
   ]
  },
  {
   "cell_type": "markdown",
   "metadata": {},
   "source": [
    "<a name='e1'></a>\n",
    "#### Exercise #1 - Practice ####\n",
    "Try executing the simple print statement in the cell below."
   ]
  },
  {
   "cell_type": "code",
   "execution_count": 1,
   "metadata": {},
   "outputs": [
    {
     "name": "stdout",
     "output_type": "stream",
     "text": [
      "This is just a simple print statement\n"
     ]
    }
   ],
   "source": [
    "# DO NOT CHANGE THIS CELL\n",
    "# activate this cell by selecting it with the mouse or arrow keys then use the keyboard shortcut [Shift+Enter] to execute\n",
    "print('This is just a simple print statement')"
   ]
  },
  {
   "cell_type": "markdown",
   "metadata": {},
   "source": [
    "Now try executing the terminal command in the cell below."
   ]
  },
  {
   "cell_type": "code",
   "execution_count": 2,
   "metadata": {},
   "outputs": [
    {
     "name": "stdout",
     "output_type": "stream",
     "text": [
      "This is another simple print statement\n"
     ]
    }
   ],
   "source": [
    "# DO NOT CHANGE THIS CELL\n",
    "# activate this cell by selecting it with the mouse or arrow keys then use the keyboard shortcut [Shift+Enter] to execute\n",
    "!echo 'This is another simple print statement'"
   ]
  },
  {
   "cell_type": "markdown",
   "metadata": {},
   "source": [
    "### NVIDIA GPU Cloud ###\n",
    "This lab requires that the user have an NVIDIA GPU Cloud (NGC) account and API key.  If you have not done so already, please: \n",
    "1. [Register and activate a free NGC account](https://docs.nvidia.com/ngc/ngc-overview/index.html#registering-activating-ngc-account)\n",
    "2. [Generate your NGC API key](https://docs.nvidia.com/ngc/ngc-overview/index.html#generating-api-key) and save it in a safe location\n",
    "\n",
    "You can learn about NGC [here](https://www.nvidia.com/en-us/gpu-cloud/) or read the documentation [here](https://docs.nvidia.com/ngc/index.html). "
   ]
  },
  {
   "cell_type": "markdown",
   "metadata": {},
   "source": [
    "<a name='e2'></a>\n",
    "#### Exercise #2 - NGC CLI and Docker Registry ####\n",
    "\n",
    "**Instructions**: <br>\n",
    "* Edit the cell below by replacing `<MY_NGC_API_KEY>` with your key and execute the cell to set the variable. \n",
    "* Execute the cell below to create a configuration file for NGC. \n",
    "* Execute the cell below to move the newly created config file to `.ngc` to configure the NGC CLI. \n",
    "* Execute the cell below to log in to NGC's Docker registry. "
   ]
  },
  {
   "cell_type": "code",
   "execution_count": 3,
   "metadata": {},
   "outputs": [],
   "source": [
    "apikey='dGNkcnByYTdsbGwyYXUwNzh1cTFtN3RrMzQ6ZmUzNjMyOWItYjBkYS00Yjc2LWIxNDItMzNkNDdiOWNhOGZl'"
   ]
  },
  {
   "cell_type": "code",
   "execution_count": 4,
   "metadata": {},
   "outputs": [
    {
     "name": "stdout",
     "output_type": "stream",
     "text": [
      ";WARNING - This is a machine generated file.  Do not edit manually.\n",
      ";WARNING - To update local config settings, see \"ngc config set -h\"\n",
      "\n",
      "[CURRENT]\n",
      "apikey=dGNkcnByYTdsbGwyYXUwNzh1cTFtN3RrMzQ6ZmUzNjMyOWItYjBkYS00Yjc2LWIxNDItMzNkNDdiOWNhOGZl\n",
      "format_type=json\n",
      "org=nvidia\n"
     ]
    }
   ],
   "source": [
    "# DO NOT CHANGE THIS CELL\n",
    "# write the config file\n",
    "config_dict={'apikey': apikey, 'format_type': 'json', 'org': 'nvidia'}\n",
    "with open('config', 'w') as f: \n",
    "    f.write(';WARNING - This is a machine generated file.  Do not edit manually.\\n')\n",
    "    f.write(';WARNING - To update local config settings, see \"ngc config set -h\"\\n')\n",
    "    f.write('\\n[CURRENT]\\n')\n",
    "    for k, v in config_dict.items(): \n",
    "        f.write(k+'='+v+'\\n')\n",
    "\n",
    "# preview the config file\n",
    "!cat config"
   ]
  },
  {
   "cell_type": "code",
   "execution_count": 5,
   "metadata": {},
   "outputs": [],
   "source": [
    "# DO NOT CHANGE THIS CELL\n",
    "# move the config file to ~/.ngc\n",
    "!mkdir -p ~/.ngc & mv config ~/.ngc/"
   ]
  },
  {
   "cell_type": "code",
   "execution_count": 6,
   "metadata": {},
   "outputs": [
    {
     "name": "stdout",
     "output_type": "stream",
     "text": [
      "WARNING! Using --password via the CLI is insecure. Use --password-stdin.\n",
      "WARNING! Your password will be stored unencrypted in /root/.docker/config.json.\n",
      "Configure a credential helper to remove this warning. See\n",
      "https://docs.docker.com/engine/reference/commandline/login/#credentials-store\n",
      "\n",
      "Login Succeeded\n"
     ]
    }
   ],
   "source": [
    "# DO NOT CHANGE THIS CELL\n",
    "# login to NGC's docker registry\n",
    "!docker login -u '$oauthtoken' -p $apikey nvcr.io"
   ]
  },
  {
   "cell_type": "markdown",
   "metadata": {},
   "source": [
    "**Well Done!** If the output includes _\"Login Succeeded\"_, then you are ready to begin. Let's move to the [next notebook](assessment.ipynb). "
   ]
  },
  {
   "cell_type": "markdown",
   "metadata": {},
   "source": [
    "<a href=\"https://www.nvidia.com/dli\"> <img src=\"images/DLI_Header.png\" alt=\"Header\" style=\"width: 400px;\"/></a>"
   ]
  }
 ],
 "metadata": {
  "kernelspec": {
   "display_name": "Python 3 (ipykernel)",
   "language": "python",
   "name": "python3"
  },
  "language_info": {
   "codemirror_mode": {
    "name": "ipython",
    "version": 3
   },
   "file_extension": ".py",
   "mimetype": "text/x-python",
   "name": "python",
   "nbconvert_exporter": "python",
   "pygments_lexer": "ipython3",
   "version": "3.8.10"
  }
 },
 "nbformat": 4,
 "nbformat_minor": 4
}
